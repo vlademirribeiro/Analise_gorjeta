{
  "nbformat": 4,
  "nbformat_minor": 0,
  "metadata": {
    "colab": {
      "private_outputs": true,
      "provenance": [],
      "authorship_tag": "ABX9TyMpuFmWXHABex7+PBDZzlLm",
      "include_colab_link": true
    },
    "kernelspec": {
      "name": "python3",
      "display_name": "Python 3"
    },
    "language_info": {
      "name": "python"
    }
  },
  "cells": [
    {
      "cell_type": "markdown",
      "metadata": {
        "id": "view-in-github",
        "colab_type": "text"
      },
      "source": [
        "<a href=\"https://colab.research.google.com/github/vlademirribeiro/Analise_gorjeta/blob/main/Visualizacao.ipynb\" target=\"_parent\"><img src=\"https://colab.research.google.com/assets/colab-badge.svg\" alt=\"Open In Colab\"/></a>"
      ]
    },
    {
      "cell_type": "code",
      "execution_count": null,
      "metadata": {
        "id": "p7U_KJWGycuL"
      },
      "outputs": [],
      "source": [
        "import pandas as pd"
      ]
    },
    {
      "cell_type": "code",
      "source": [],
      "metadata": {
        "id": "Dqrx_MO3pF5-"
      },
      "execution_count": null,
      "outputs": []
    },
    {
      "cell_type": "code",
      "source": [],
      "metadata": {
        "id": "Mov4yNUgpHqe"
      },
      "execution_count": null,
      "outputs": []
    },
    {
      "cell_type": "code",
      "source": [
        "url = 'https://raw.githubusercontent.com/alura-cursos/bibliotecas_visualizacao/refs/heads/main/Dados/imigrantes_canada.csv'"
      ],
      "metadata": {
        "id": "mhlp6Q06yhLH"
      },
      "execution_count": null,
      "outputs": []
    },
    {
      "cell_type": "code",
      "source": [
        "migracao = pd.read_csv(url)"
      ],
      "metadata": {
        "id": "H2xJWMLgyhV2"
      },
      "execution_count": null,
      "outputs": []
    },
    {
      "cell_type": "code",
      "source": [
        "migracao.head()"
      ],
      "metadata": {
        "id": "3VK_tRRUyheu"
      },
      "execution_count": null,
      "outputs": []
    },
    {
      "cell_type": "code",
      "source": [
        "len(migracao)"
      ],
      "metadata": {
        "id": "StmeZQD5yhmT"
      },
      "execution_count": null,
      "outputs": []
    },
    {
      "cell_type": "code",
      "source": [
        "migracao.info()"
      ],
      "metadata": {
        "id": "6XLUpSlNyhzu"
      },
      "execution_count": null,
      "outputs": []
    },
    {
      "cell_type": "code",
      "source": [
        "migracao.set_index('País', inplace=True)"
      ],
      "metadata": {
        "id": "iyMG84k8yh9O"
      },
      "execution_count": null,
      "outputs": []
    },
    {
      "cell_type": "code",
      "source": [
        "anos = list(map(str, range(1980, 2014)))"
      ],
      "metadata": {
        "id": "7oiS_0V-yiFV"
      },
      "execution_count": null,
      "outputs": []
    },
    {
      "cell_type": "code",
      "source": [
        "brasil = migracao.loc['Brasil', anos]"
      ],
      "metadata": {
        "id": "wEGb4PyUyiXl"
      },
      "execution_count": null,
      "outputs": []
    },
    {
      "cell_type": "code",
      "source": [
        "\n",
        "brasil_dict = {'ano': brasil.index.tolist(), 'imigrantes': brasil.values.tolist()}\n",
        "dados_brasil = pd.DataFrame(brasil_dict)\n"
      ],
      "metadata": {
        "id": "KiAbIj0Lyiht"
      },
      "execution_count": null,
      "outputs": []
    },
    {
      "cell_type": "code",
      "source": [
        "dados_brasil"
      ],
      "metadata": {
        "id": "vdHthXM9yisf",
        "collapsed": true
      },
      "execution_count": null,
      "outputs": []
    },
    {
      "cell_type": "code",
      "source": [
        "import matplotlib.pyplot as plt"
      ],
      "metadata": {
        "id": "jLujwa4JpNAp"
      },
      "execution_count": null,
      "outputs": []
    },
    {
      "cell_type": "code",
      "source": [
        "plt.figure(figsize=(10, 6))\n",
        "plt.plot(dados_brasil['ano'], dados_brasil['imigrantes'])\n",
        "plt.xlabel('Ano')\n",
        "plt.ylabel('Números de Imigrantes')\n",
        "plt.title('Imigração de Brasileiros para o Canadá')\n",
        "plt.xticks(['1980', '1985', '1990','1995', '2000','2005', '2010'])\n",
        "plt.show()"
      ],
      "metadata": {
        "id": "2738axNspM-R"
      },
      "execution_count": null,
      "outputs": []
    },
    {
      "cell_type": "code",
      "source": [
        "fig, ax = plt.subplots(figsize=(10, 6))\n",
        "ax.plot(dados_brasil['ano'], dados_brasil['imigrantes'], lw = 3)\n",
        "ax.xaxis.set_major_locator(plt.MultipleLocator(5))\n",
        "ax.set_title('Imigração de Brasileiros para o Canadá', fontsize = 20)\n",
        "ax.set_xlabel('Ano', fontsize = 14)\n",
        "ax.xaxis.set_tick_params(labelsize=12)\n",
        "ax.yaxis.set_tick_params(labelsize=12)\n",
        "ax.set_ylabel('Números de Imigrantes', fontsize = 14)\n",
        "ax.grid(True)\n",
        "plt.show()"
      ],
      "metadata": {
        "id": "NJLkWRbLpM8T"
      },
      "execution_count": null,
      "outputs": []
    },
    {
      "cell_type": "code",
      "source": [
        "fig , axs = plt.subplots(1, 2, figsize=(10, 6))\n",
        "axs[0].plot(dados_brasil['ano'], dados_brasil['imigrantes'])\n",
        "axs[0].set_title('Imigração de Brasileiros para o Canadá')\n",
        "axs[0].set_xlabel('Ano')\n",
        "axs[0].set_ylabel('Números de Imigrantes')\n",
        "axs[0].xaxis.set_major_locator(plt.MultipleLocator(5))\n",
        "axs[0].grid(True)\n",
        "\n",
        "#boxplot grafico\n",
        "axs[1].boxplot(dados_brasil['imigrantes'])\n",
        "axs[1].set_title('Boxplot Distribuição de Imigrantes')\n",
        "axs[1].set_ylabel('Números de Imigrantes')\n",
        "axs[1].set_xlabel('Brasil')\n",
        "axs[1].grid(True)\n",
        "\n",
        "plt.tight_layout()\n",
        "plt.show()"
      ],
      "metadata": {
        "id": "jhUllK6qpM2A"
      },
      "execution_count": null,
      "outputs": []
    },
    {
      "cell_type": "code",
      "source": [
        "dados_brasil.describe()"
      ],
      "metadata": {
        "id": "gU-lIJ6opMxJ"
      },
      "execution_count": null,
      "outputs": []
    },
    {
      "cell_type": "code",
      "source": [
        "fig, axs = plt.subplots(2,2, figsize=(10,6))\n",
        "fig.subplots_adjust(hspace=0.5, wspace=0.3)\n",
        "fig.suptitle('Imigração dos quatro maiores paises da América do Sul para o Canadá')\n",
        "\n",
        "axs[0,0].plot(migracao.loc['Brasil', anos])\n",
        "axs[0,0].set_title('Brasil')\n",
        "\n",
        "axs[0,1].plot(migracao.loc['Colômbia', anos])\n",
        "axs[0,1].set_title('Colômbia')\n",
        "\n",
        "axs[1,0].plot(migracao.loc['Argentina', anos])\n",
        "axs[1,0].set_title('Argentina')\n",
        "\n",
        "axs[1,1].plot(migracao.loc['Peru', anos])\n",
        "axs[1,1].set_title('Peru')\n",
        "\n",
        "for ax in axs.flat:\n",
        "  ax.xaxis.set_major_locator(plt.MultipleLocator(5))\n",
        "\n",
        "for ax in axs.flat:\n",
        "  ax.set_xlabel('Ano')\n",
        "  ax.set_ylabel('Número de imigrantes')\n",
        "\n",
        "\n",
        "#ajustando o eixo Y para numero de imigrantes\n",
        "  ymin = 0\n",
        "ymax = 7000\n",
        "\n",
        "for ax in axs.ravel():\n",
        "  ax.set_ylim(ymin, ymax)\n",
        "\n",
        "plt.show()"
      ],
      "metadata": {
        "id": "pgzLK69i8407"
      },
      "execution_count": null,
      "outputs": []
    },
    {
      "cell_type": "code",
      "source": [],
      "metadata": {
        "id": "yrProzQ5pMqP"
      },
      "execution_count": null,
      "outputs": []
    },
    {
      "cell_type": "code",
      "source": [
        "america_sul = migracao.query('Região == \"América do Sul\"')\n",
        "america_sul"
      ],
      "metadata": {
        "id": "un2HsSz1pMnU"
      },
      "execution_count": null,
      "outputs": []
    },
    {
      "cell_type": "code",
      "source": [
        "cores = ['royalblue', 'orange', 'forestgreen', 'orchid', 'purple', 'brown', 'slateblue', 'gray', 'olive', 'navy', 'teal', 'tomato']\n",
        "\n",
        "fig, ax = plt.subplots(figsize=(12, 5))\n",
        "ax.bar(america_sul.index, america_sul['Total'], color=cores)"
      ],
      "metadata": {
        "id": "YGWa4TcPpMjw"
      },
      "execution_count": null,
      "outputs": []
    },
    {
      "cell_type": "code",
      "source": [
        "ax.set_title('Imigração da América do Sul para o Canadá\\n1980 a 2013', loc='left', fontsize=18)"
      ],
      "metadata": {
        "id": "14WJtoj2pMeY"
      },
      "execution_count": null,
      "outputs": []
    },
    {
      "cell_type": "code",
      "source": [
        "cores = ['royalblue', 'orange', 'forestgreen', 'orchid', 'purple', 'brown', 'slateblue', 'gray', 'olive', 'navy', 'teal', 'tomato']\n",
        "\n",
        "fig, ax = plt.subplots(figsize=(12, 5))\n",
        "ax.barh(america_sul.index, america_sul['Total'], color=cores)\n",
        "ax.set_title('Imigração da América do Sul para o Canadá\\n1980 a 2013', loc='left', fontsize=18)\n",
        "ax.set_xlabel('Número de imigrantes', fontsize=14)\n",
        "ax.set_ylabel('')\n",
        "ax.yaxis.set_tick_params(labelsize=12)\n",
        "ax.xaxis.set_tick_params(labelsize=12)\n",
        "\n",
        "plt.show()"
      ],
      "metadata": {
        "id": "GwPzzXlEpMb3"
      },
      "execution_count": null,
      "outputs": []
    },
    {
      "cell_type": "code",
      "source": [
        "america_sul_sorted = america_sul.sort_values('Total', ascending=True)\n"
      ],
      "metadata": {
        "id": "15ZDWGAhpLvZ"
      },
      "execution_count": null,
      "outputs": []
    },
    {
      "cell_type": "code",
      "source": [
        "cores = ['royalblue', 'orange', 'forestgreen', 'orchid', 'purple', 'brown', 'slateblue', 'gray', 'olive', 'navy', 'teal', 'tomato']\n",
        "\n",
        "fig, ax = plt.subplots(figsize=(12, 5))\n",
        "ax.barh(america_sul_sorted.index, america_sul_sorted['Total'], color=cores)\n",
        "ax.set_title('Imigração da América do Sul para o Canadá\\n1980 a 2013', loc='left', fontsize=18)\n",
        "ax.set_xlabel('Número de imigrantes', fontsize=14)\n",
        "ax.set_ylabel('')\n",
        "ax.yaxis.set_tick_params(labelsize=12)\n",
        "ax.xaxis.set_tick_params(labelsize=12)\n",
        "\n",
        "plt.show()"
      ],
      "metadata": {
        "id": "XcUL9MyJ5C3Y"
      },
      "execution_count": null,
      "outputs": []
    },
    {
      "cell_type": "code",
      "source": [
        "cores = []\n",
        "for pais in america_sul_sorted.index:\n",
        "    if pais == 'Brasil':\n",
        "        cores.append('green')\n",
        "    else:\n",
        "        cores.append('silver')\n",
        "\n",
        "fig, ax = plt.subplots(figsize=(12, 5))\n",
        "ax.barh(america_sul_sorted.index, america_sul_sorted['Total'], color=cores)\n",
        "ax.set_title('Imigração da América do Sul para o Canadá\\n1980 a 2013', loc='left', fontsize=16)\n",
        "ax.set_xlabel('Número de imigrantes', fontsize=14)\n",
        "ax.set_ylabel('')\n",
        "ax.yaxis.set_tick_params(labelsize=12)\n",
        "ax.xaxis.set_tick_params(labelsize=12)\n",
        "\n",
        "plt.show()"
      ],
      "metadata": {
        "id": "3aENvFHZ5Ctf"
      },
      "execution_count": null,
      "outputs": []
    },
    {
      "cell_type": "code",
      "source": [
        "for i, v in enumerate(america_sul_sorted['Total']):\n",
        "    ax.text(v + 20, i, str(v), color='black', fontsize=10, ha='left', va='center')"
      ],
      "metadata": {
        "id": "kvHavOjo5CaQ"
      },
      "execution_count": null,
      "outputs": []
    },
    {
      "cell_type": "code",
      "source": [
        "# código omitido\n",
        "fig, ax = plt.subplots(figsize=(12, 5))\n",
        "ax.barh(america_sul_sorted.index, america_sul_sorted['Total'], color=cores)\n",
        "ax.set_title('América do Sul: Brasil foi o quarto país com mais imigrantes\\npara o Canadá no período de 1980 a 2013', loc='left', fontsize=16)\n",
        "ax.set_xlabel('Número de imigrantes', fontsize=14)\n",
        "ax.set_ylabel('')\n",
        "ax.set_frame_on(False)\n",
        "ax.yaxis.set_tick_params(labelsize=12)\n",
        "ax.xaxis.set_tick_params(labelsize=12)\n",
        "\n",
        "for i, v in enumerate(america_sul_sorted['Total']):\n",
        "    ax.text(v + 20, i, str(v), color='black', fontsize=10, ha='left', va='center')\n",
        "\n",
        "#salvando grafico com formato PNG\n",
        "\n",
        "fig.savefig('imigracao_america_sul.png', transparent=False, dpi=300, bbox_inches='tight')\n",
        "\n",
        "plt.show()"
      ],
      "metadata": {
        "id": "wjtuvQHI5CQW"
      },
      "execution_count": null,
      "outputs": []
    },
    {
      "cell_type": "code",
      "source": [
        "print(fig.canvas.get_supported_filetypes())"
      ],
      "metadata": {
        "id": "GfeTROF15CJc"
      },
      "execution_count": null,
      "outputs": []
    },
    {
      "cell_type": "code",
      "source": [
        "import seaborn as sns\n",
        "sns.color_palette(\"hls\", 8)\n",
        "sns.set_theme()"
      ],
      "metadata": {
        "id": "yx_1iBno5CBZ"
      },
      "execution_count": null,
      "outputs": []
    },
    {
      "cell_type": "code",
      "source": [
        "df = migracao\n",
        "top_10 = df.sort_values('Total', ascending=False).head(10)\n"
      ],
      "metadata": {
        "id": "PPeLtWH45B4Y"
      },
      "execution_count": null,
      "outputs": []
    },
    {
      "cell_type": "code",
      "source": [
        "top_10"
      ],
      "metadata": {
        "id": "BtK48PE25Bua"
      },
      "execution_count": null,
      "outputs": []
    },
    {
      "cell_type": "code",
      "source": [
        "#sns.barplot(data=top_10, y='Total', x=top_10.index)\n",
        "sns.color_palette(\"hls\", 8)\n",
        "sns.barplot(data=top_10, x=top_10.index, y='Total')"
      ],
      "metadata": {
        "id": "AV-lIXlCI2Qs"
      },
      "execution_count": null,
      "outputs": []
    },
    {
      "cell_type": "code",
      "source": [
        "sns.barplot(data=top_10, y=top_10.index, x='Total', orient= 'h')\n"
      ],
      "metadata": {
        "id": "Qa6uwY_xI2Bl"
      },
      "execution_count": null,
      "outputs": []
    },
    {
      "cell_type": "code",
      "source": [
        "ax = sns.barplot(data=top_10, y=top_10.index, x='Total', orient='h')\n",
        "\n",
        "ax.set(title=\"Países com maior imigração para o Canadá\\n1980 a 2013\",\n",
        "       xlabel='Número de Imigrantes',\n",
        "        ylabel='')\n",
        "\n",
        "plt.show()"
      ],
      "metadata": {
        "id": "IKY1tqk8I1yM"
      },
      "execution_count": null,
      "outputs": []
    },
    {
      "cell_type": "code",
      "source": [
        "\n",
        "fig, ax = plt.subplots(figsize=(8, 4))\n",
        "\n",
        "ax = sns.barplot(data=top_10, y=top_10.index, x='Total', orient='h')\n",
        "\n",
        "ax.set_title('Países com maior imigração para o Canadá\\n1980 a 2013', loc='left', fontsize=16)\n",
        "ax.set_xlabel('Número de imigrantes', fontsize=14)\n",
        "ax.set_ylabel('', fontsize=14)\n",
        "\n",
        "plt.show()"
      ],
      "metadata": {
        "id": "DN5x_XGCI1e_"
      },
      "execution_count": null,
      "outputs": []
    },
    {
      "cell_type": "code",
      "source": [
        "def gerar_grafico_paleta(palette):\n",
        "    fig, ax = plt.subplots(figsize=(8,4))\n",
        "    ax = sns.barplot(data=top_10, y=top_10.index, x='Total', orient='h', palette=palette)\n",
        "    ax.set_title('Países com maior imigração para o Canadá\\n1980 a 2013', loc='left', fontsize=18)\n",
        "    ax.set_xlabel('Número de imigrantes', fontsize=14)\n",
        "    ax.set_ylabel('')\n",
        "\n",
        "    plt.show()"
      ],
      "metadata": {
        "id": "tbd5laF8QSgb"
      },
      "execution_count": null,
      "outputs": []
    },
    {
      "cell_type": "code",
      "source": [
        "gerar_grafico_paleta('Blues_r')\n"
      ],
      "metadata": {
        "id": "TDrquqcwQSap"
      },
      "execution_count": null,
      "outputs": []
    },
    {
      "cell_type": "code",
      "source": [
        "gerar_grafico_paleta('tab10')"
      ],
      "metadata": {
        "id": "ZcAzZ1G6QST5"
      },
      "execution_count": null,
      "outputs": []
    },
    {
      "cell_type": "code",
      "source": [
        "sns.set_theme(style='whitegrid')\n",
        "gerar_grafico_paleta('tab10')"
      ],
      "metadata": {
        "id": "wm2CbDwqQSPE"
      },
      "execution_count": null,
      "outputs": []
    },
    {
      "cell_type": "code",
      "source": [
        "sns.set_theme(style='whitegrid')\n",
        "gerar_grafico_paleta(\"tab10\")"
      ],
      "metadata": {
        "id": "j-xGA44XoYuT"
      },
      "execution_count": null,
      "outputs": []
    },
    {
      "cell_type": "code",
      "source": [
        "fig, ax = plt.subplots(figsize=(8, 4))\n",
        "ax = sns.barplot(data=top_10, y=top_10.index, x='Total', orient='h', palette='tab10')\n",
        "\n",
        "ax.set_title('Países com maior imigração para o Canadá\\n1980 a 2013', loc='left', fontsize=18)\n",
        "ax.set_xlabel('Número de Imigrantes', fontsize=14)\n",
        "ax.set_ylabel('')"
      ],
      "metadata": {
        "id": "mo7XR3v8oYrb"
      },
      "execution_count": null,
      "outputs": []
    },
    {
      "cell_type": "code",
      "source": [
        "fig, ax = plt.subplots(figsize=(8, 4))\n",
        "ax = sns.barplot(data=top_10, y=top_10.index, x='Total', orient='h', palette='tab10')\n",
        "\n",
        "ax.set_title('Países com maior imigração para o Canadá\\n1980 a 2013', loc='left', fontsize=18)\n",
        "ax.set_xlabel('Número de Imigrantes', fontsize=14)\n",
        "ax.set_ylabel('')\n",
        "sns.despine()\n",
        "\n",
        "plt.show()"
      ],
      "metadata": {
        "id": "s-ELGQJ9oYoi"
      },
      "execution_count": null,
      "outputs": []
    },
    {
      "cell_type": "code",
      "source": [
        "import plotly.express as px"
      ],
      "metadata": {
        "id": "Nn3R2SMLoYlx"
      },
      "execution_count": null,
      "outputs": []
    },
    {
      "cell_type": "code",
      "source": [
        "#grafico interativo\n",
        "fig = px.line(dados_brasil, x='ano', y= 'imigrantes')\n",
        "title = ('Imigração de Brasileiros para o Canadá no período de 1980 a 2013')\n",
        "fig.update_traces(line_color='green', line_width=4)\n",
        "fig.update_layout(width = 1000, height = 500,\n",
        "                  xaxis={'tickangle': -45},\n",
        "                  font_family = 'Arial',\n",
        "                  font_color = 'grey',\n",
        "                  font_size = 14,\n",
        "                  xaxis_title = 'Ano',\n",
        "                  yaxis_title = 'Número de Imigrantes')\n",
        "\n",
        "fig.show()"
      ],
      "metadata": {
        "id": "KB97kph7oYjV"
      },
      "execution_count": null,
      "outputs": []
    },
    {
      "cell_type": "code",
      "source": [
        "numero_1 = 24\n",
        "numero_2 = 22\n",
        "if numero_1 < numero_2:\n",
        "    print(f'{numero_1}  é menor que {numero_2}')\n",
        "elif numero_1 > numero_2:\n",
        "    print(f'{numero_1}  é maior que {numero_2}')\n",
        "else:\n",
        "    print(f'{numero_2} é igual a {numero_1}')\n",
        "\n"
      ],
      "metadata": {
        "id": "BUq9NdctoYgf"
      },
      "execution_count": null,
      "outputs": []
    },
    {
      "cell_type": "code",
      "source": [
        "america_sul.head()"
      ],
      "metadata": {
        "id": "SbjTJQP8oYeG"
      },
      "execution_count": null,
      "outputs": []
    },
    {
      "cell_type": "code",
      "source": [
        "df_america_sul_clear = america_sul.drop(['Continente', 'Região', 'Total'], axis=1)\n",
        "america_sul_final = df_america_sul_clear.T\n",
        "america_sul_final.head()"
      ],
      "metadata": {
        "id": "wAN3s07qQSEg"
      },
      "execution_count": null,
      "outputs": []
    },
    {
      "cell_type": "code",
      "source": [
        "fig = px.line(america_sul_final, x=america_sul_final.index, y=america_sul_final.columns, color='País',\n",
        "              title='Imigração dos países da América do Sul para o Canadá de 1980 a 2013')\n",
        "fig.update_layout(\n",
        "    xaxis={'tickangle': -45},\n",
        "    xaxis_title='Ano',\n",
        "    yaxis_title='Número de imigrantes')\n",
        "\n",
        "fig.show()\n",
        "\n",
        "\n",
        "\n",
        "\n"
      ],
      "metadata": {
        "id": "Zp0-okoKMtS8"
      },
      "execution_count": null,
      "outputs": []
    },
    {
      "cell_type": "code",
      "source": [
        "fig= px.line(america_sul_final, x=america_sul_final.index, y=america_sul_final.columns, color = 'País',\n",
        "             title='Imigração da América do Sul para o Canadá', markers= 'True')\n",
        "fig.update_layout(xaxis = {'tickangle': -45},\n",
        "                  xaxis_title = 'Ano',\n",
        "                  yaxis_title = 'Número de Imigrantes')\n",
        "fig.show()"
      ],
      "metadata": {
        "id": "7KMdKFcqQR40"
      },
      "execution_count": null,
      "outputs": []
    },
    {
      "cell_type": "code",
      "source": [
        "#salvando grafico html\n",
        "fig.write_html('imigracao_america_sul.html')"
      ],
      "metadata": {
        "id": "bYrLg4AJ5BjB"
      },
      "execution_count": null,
      "outputs": []
    }
  ]
}