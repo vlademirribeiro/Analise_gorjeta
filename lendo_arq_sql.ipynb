{
  "nbformat": 4,
  "nbformat_minor": 0,
  "metadata": {
    "colab": {
      "private_outputs": true,
      "provenance": [],
      "authorship_tag": "ABX9TyMXZRHKV0AOyEY/qsLi8TW8",
      "include_colab_link": true
    },
    "kernelspec": {
      "name": "python3",
      "display_name": "Python 3"
    },
    "language_info": {
      "name": "python"
    }
  },
  "cells": [
    {
      "cell_type": "markdown",
      "metadata": {
        "id": "view-in-github",
        "colab_type": "text"
      },
      "source": [
        "<a href=\"https://colab.research.google.com/github/vlademirribeiro/Analise_gorjeta/blob/main/lendo_arq_sql.ipynb\" target=\"_parent\"><img src=\"https://colab.research.google.com/assets/colab-badge.svg\" alt=\"Open In Colab\"/></a>"
      ]
    },
    {
      "cell_type": "code",
      "execution_count": null,
      "metadata": {
        "id": "s2svvdAbqH7g"
      },
      "outputs": [],
      "source": [
        "import sqlalchemy"
      ]
    },
    {
      "cell_type": "code",
      "source": [
        "from sqlalchemy import create_engine, MetaData, Table, inspect"
      ],
      "metadata": {
        "id": "foqA2Sk2qJmR"
      },
      "execution_count": null,
      "outputs": []
    },
    {
      "cell_type": "code",
      "source": [
        "engine = create_engine('sqlite:///:memory')"
      ],
      "metadata": {
        "id": "Zt_jHkh_qJw5"
      },
      "execution_count": null,
      "outputs": []
    },
    {
      "cell_type": "code",
      "source": [
        "url = 'https://raw.githubusercontent.com/alura-cursos/Pandas/refs/heads/main/clientes_banco.csv'"
      ],
      "metadata": {
        "id": "1a-jqvooqJ5d"
      },
      "execution_count": null,
      "outputs": []
    },
    {
      "cell_type": "code",
      "source": [
        "import pandas as pd"
      ],
      "metadata": {
        "id": "FRNImng_qJ-w"
      },
      "execution_count": null,
      "outputs": []
    },
    {
      "cell_type": "code",
      "source": [
        "dados = pd.read_csv(url)"
      ],
      "metadata": {
        "id": "GitCS2EzqKDh"
      },
      "execution_count": null,
      "outputs": []
    },
    {
      "cell_type": "code",
      "source": [
        "dados.head(3)"
      ],
      "metadata": {
        "id": "Q9NmWgC4qKIp"
      },
      "execution_count": null,
      "outputs": []
    },
    {
      "cell_type": "code",
      "source": [
        "dados.to_sql('clientes', engine, index=False)"
      ],
      "metadata": {
        "id": "K5knj5nuqKNQ"
      },
      "execution_count": null,
      "outputs": []
    },
    {
      "cell_type": "code",
      "source": [
        "inspector = inspect(engine)"
      ],
      "metadata": {
        "id": "bCO_HcMdtjuG"
      },
      "execution_count": null,
      "outputs": []
    },
    {
      "cell_type": "code",
      "source": [
        "inspector.get_table_names()"
      ],
      "metadata": {
        "id": "3ReGmwPftjzk"
      },
      "execution_count": null,
      "outputs": []
    },
    {
      "cell_type": "code",
      "source": [
        "query = 'SELECT * FROM clientes WHERE Categoria_de_renda = \"Empregado\"'"
      ],
      "metadata": {
        "id": "aVi3JVm7tj3Q"
      },
      "execution_count": null,
      "outputs": []
    },
    {
      "cell_type": "code",
      "source": [
        "#ler uma consulta\n",
        "empregados = pd.read_sql(query, engine)"
      ],
      "metadata": {
        "id": "oeMhkT5Ftj8t"
      },
      "execution_count": null,
      "outputs": []
    },
    {
      "cell_type": "code",
      "source": [
        "empregados.head()"
      ],
      "metadata": {
        "id": "x-FUmtnWtj_q"
      },
      "execution_count": null,
      "outputs": []
    },
    {
      "cell_type": "code",
      "source": [
        "empregados.to_sql('empregados', con=engine, index=False)"
      ],
      "metadata": {
        "id": "fmY2Z751qKSx"
      },
      "execution_count": null,
      "outputs": []
    },
    {
      "cell_type": "code",
      "source": [
        "#lendo uma tabela completa\n",
        "pd.read_sql_table('empregados', con=engine)"
      ],
      "metadata": {
        "id": "XXe9evIHqKX-"
      },
      "execution_count": null,
      "outputs": []
    },
    {
      "cell_type": "code",
      "source": [
        "pd.read_sql_table('clientes', con=engine, columns = ['ID_Cliente', 'Grau_escolaridade', 'Rendimento_anual'])"
      ],
      "metadata": {
        "id": "aA4hZHfDxIZf"
      },
      "execution_count": null,
      "outputs": []
    },
    {
      "cell_type": "code",
      "source": [
        "query = 'SELECT * FROM clientes'"
      ],
      "metadata": {
        "id": "RTymyOl1yeC3"
      },
      "execution_count": null,
      "outputs": []
    },
    {
      "cell_type": "code",
      "source": [
        "pd.read_sql(query, engine)"
      ],
      "metadata": {
        "id": "MqfrZN93yd49"
      },
      "execution_count": null,
      "outputs": []
    },
    {
      "cell_type": "code",
      "source": [
        "query ='DELETE FROM clientes WHERE ID_Cliente=5008804'\n",
        "with engine.connect() as conn:\n",
        "    conn.execute(query)"
      ],
      "metadata": {
        "id": "r499AFIyydVP"
      },
      "execution_count": null,
      "outputs": []
    },
    {
      "cell_type": "code",
      "source": [
        "query = 'UPDATE clientes SET Grau_escolaridade=\"Ensino superior\" WHERE ID_Cliente=5008808'\n",
        "with engine.connect() as conn:\n",
        "  conn.execute(query)"
      ],
      "metadata": {
        "id": "STnE3B3Zn-0g"
      },
      "execution_count": null,
      "outputs": []
    },
    {
      "cell_type": "code",
      "source": [
        "pd.read_sql_table('clientes', engine)"
      ],
      "metadata": {
        "id": "StqMSh4IqW10"
      },
      "execution_count": null,
      "outputs": []
    }
  ]
}