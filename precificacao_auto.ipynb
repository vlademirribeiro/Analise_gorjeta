{
  "nbformat": 4,
  "nbformat_minor": 0,
  "metadata": {
    "colab": {
      "private_outputs": true,
      "provenance": [],
      "authorship_tag": "ABX9TyO5fQwPB7f01q+wDAXoyv12",
      "include_colab_link": true
    },
    "kernelspec": {
      "name": "python3",
      "display_name": "Python 3"
    },
    "language_info": {
      "name": "python"
    }
  },
  "cells": [
    {
      "cell_type": "markdown",
      "metadata": {
        "id": "view-in-github",
        "colab_type": "text"
      },
      "source": [
        "<a href=\"https://colab.research.google.com/github/vlademirribeiro/Analise_gorjeta/blob/main/precificacao_auto.ipynb\" target=\"_parent\"><img src=\"https://colab.research.google.com/assets/colab-badge.svg\" alt=\"Open In Colab\"/></a>"
      ]
    },
    {
      "cell_type": "code",
      "execution_count": null,
      "metadata": {
        "id": "qImX2t10tSgF"
      },
      "outputs": [],
      "source": [
        "import pandas as pd\n"
      ]
    },
    {
      "cell_type": "code",
      "source": [
        "dados = pd.read_json('/content/dados-hospedagem.json')"
      ],
      "metadata": {
        "id": "oA0DInAMwsuM"
      },
      "execution_count": null,
      "outputs": []
    },
    {
      "cell_type": "code",
      "source": [
        "dados.head()"
      ],
      "metadata": {
        "id": "-obeRIGJws5J"
      },
      "execution_count": null,
      "outputs": []
    },
    {
      "cell_type": "code",
      "source": [
        "type(dados)"
      ],
      "metadata": {
        "id": "Vsuo2dYbws9c"
      },
      "execution_count": null,
      "outputs": []
    },
    {
      "cell_type": "code",
      "source": [
        "dados.info()"
      ],
      "metadata": {
        "id": "1QybUvF8wtAn"
      },
      "execution_count": null,
      "outputs": []
    },
    {
      "cell_type": "code",
      "source": [
        "pd.DataFrame(dados)"
      ],
      "metadata": {
        "id": "QQEFEWD_wtD9"
      },
      "execution_count": null,
      "outputs": []
    },
    {
      "cell_type": "code",
      "source": [
        "dados.keys()"
      ],
      "metadata": {
        "id": "3YlySh5zwtG6"
      },
      "execution_count": null,
      "outputs": []
    },
    {
      "cell_type": "code",
      "source": [
        "dados['info_moveis']"
      ],
      "metadata": {
        "id": "VEh0p08gwtKE"
      },
      "execution_count": null,
      "outputs": []
    },
    {
      "cell_type": "code",
      "source": [
        "#quebrando aninhamento json\n",
        "dados = pd.json_normalize(dados['info_moveis'])"
      ],
      "metadata": {
        "id": "12DRQG4hwtNO"
      },
      "execution_count": null,
      "outputs": []
    },
    {
      "cell_type": "code",
      "source": [
        "dados.head()"
      ],
      "metadata": {
        "id": "9DxMCCmjwtP8"
      },
      "execution_count": null,
      "outputs": []
    },
    {
      "cell_type": "code",
      "source": [
        "#desagrupando lista"
      ],
      "metadata": {
        "id": "ij_tWXjvwtZm"
      },
      "execution_count": null,
      "outputs": []
    },
    {
      "cell_type": "code",
      "source": [
        "colunas = list(dados.columns)\n",
        "colunas"
      ],
      "metadata": {
        "id": "Ik92pB1swtcl"
      },
      "execution_count": null,
      "outputs": []
    },
    {
      "cell_type": "code",
      "source": [
        "dados = dados.explode(colunas[3:])\n",
        "dados"
      ],
      "metadata": {
        "id": "3-f29gJfwtfr"
      },
      "execution_count": null,
      "outputs": []
    },
    {
      "cell_type": "code",
      "source": [
        "dados.reset_index(inplace=True, drop=True)\n",
        "dados.head()"
      ],
      "metadata": {
        "id": "L4swlsjo9J0Y"
      },
      "execution_count": null,
      "outputs": []
    },
    {
      "cell_type": "code",
      "source": [
        "dados.info()"
      ],
      "metadata": {
        "id": "G8VVCvAlwtVD"
      },
      "execution_count": null,
      "outputs": []
    },
    {
      "cell_type": "code",
      "source": [
        "import numpy as np"
      ],
      "metadata": {
        "id": "ZGHB1yJR9SKh"
      },
      "execution_count": null,
      "outputs": []
    },
    {
      "cell_type": "code",
      "source": [
        "dados['max_hospedes'] = dados['max_hospedes'].astype(np.int64)"
      ],
      "metadata": {
        "id": "tTYCarDj9SVf"
      },
      "execution_count": null,
      "outputs": []
    },
    {
      "cell_type": "code",
      "source": [
        "dados.info()"
      ],
      "metadata": {
        "id": "qlhPnQKH9SgI"
      },
      "execution_count": null,
      "outputs": []
    },
    {
      "cell_type": "code",
      "source": [
        "col_numericas = ['quantidade_banheiros','quantidade_quartos','quantidade_camas']"
      ],
      "metadata": {
        "id": "DZybImhd9Sox"
      },
      "execution_count": null,
      "outputs": []
    },
    {
      "cell_type": "code",
      "source": [
        "dados[col_numericas] = dados[col_numericas].astype(np.int64)"
      ],
      "metadata": {
        "id": "ZZM3nS7E9SzD"
      },
      "execution_count": null,
      "outputs": []
    },
    {
      "cell_type": "code",
      "source": [
        "dados['avaliacao_geral'] = dados['avaliacao_geral'].astype(np.float64)"
      ],
      "metadata": {
        "id": "vOi7qG7h9TAB"
      },
      "execution_count": null,
      "outputs": []
    },
    {
      "cell_type": "code",
      "source": [
        "dados['preco']"
      ],
      "metadata": {
        "id": "bedKBdw6Ku2e"
      },
      "execution_count": null,
      "outputs": []
    },
    {
      "cell_type": "code",
      "source": [
        "dados['preco'].apply(lambda x: x.replace('$', '').replace(',','').strip())"
      ],
      "metadata": {
        "collapsed": true,
        "id": "gw_iego5KYrF"
      },
      "execution_count": null,
      "outputs": []
    },
    {
      "cell_type": "code",
      "source": [
        "#retirando alguns caracteres para converter os precos em float\n",
        "dados['preco'] = dados['preco'].apply(lambda x: x.replace('$', '').replace(',','').strip())"
      ],
      "metadata": {
        "id": "XwGPtBeHa_YU"
      },
      "execution_count": null,
      "outputs": []
    },
    {
      "cell_type": "code",
      "source": [
        "#guardando os dados convertidos na string dados\n",
        "dados['preco'] = dados['preco'].astype(np.float64)"
      ],
      "metadata": {
        "id": "zeOFINN8BqiE"
      },
      "execution_count": null,
      "outputs": []
    },
    {
      "cell_type": "code",
      "source": [
        "dados.info()"
      ],
      "metadata": {
        "id": "qWgu3HC4BppO"
      },
      "execution_count": null,
      "outputs": []
    },
    {
      "cell_type": "code",
      "source": [
        "dados[['taxa_deposito', 'taxa_limpeza']].applymap(lambda x: x.replace('$', '').replace(',','').strip())"
      ],
      "metadata": {
        "id": "RwYFCEAK9TK3"
      },
      "execution_count": null,
      "outputs": []
    },
    {
      "cell_type": "code",
      "source": [
        "dados[['taxa_deposito', 'taxa_limpeza']] = dados[['taxa_deposito', 'taxa_limpeza']].applymap(lambda x: x.replace('$', '').replace(',','').strip())"
      ],
      "metadata": {
        "id": "CCNRH4qpvLg3"
      },
      "execution_count": null,
      "outputs": []
    },
    {
      "cell_type": "code",
      "source": [
        "dados[['taxa_deposito', 'taxa_limpeza']] = dados[['taxa_deposito', 'taxa_limpeza']].astype(np.float64)"
      ],
      "metadata": {
        "id": "AQvybsYUvLXz"
      },
      "execution_count": null,
      "outputs": []
    },
    {
      "cell_type": "code",
      "source": [
        "dados.info()"
      ],
      "metadata": {
        "id": "o6LSiguxvLQk"
      },
      "execution_count": null,
      "outputs": []
    },
    {
      "cell_type": "code",
      "source": [
        "dados['descricao_local'] = dados['descricao_local'].str.lower()"
      ],
      "metadata": {
        "id": "tYBTYBr8vLLv"
      },
      "execution_count": null,
      "outputs": []
    },
    {
      "cell_type": "code",
      "source": [
        "dados.head()"
      ],
      "metadata": {
        "id": "w-dzPoO0vLAJ"
      },
      "execution_count": null,
      "outputs": []
    },
    {
      "cell_type": "code",
      "source": [
        "dados['descricao_local'][2020]"
      ],
      "metadata": {
        "id": "x644C4AgvK8M"
      },
      "execution_count": null,
      "outputs": []
    },
    {
      "cell_type": "code",
      "source": [
        "#removendo acentuação desnecessaria\n",
        "dados['descricao_local'] = dados['descricao_local'].str.replace('[^a-zA-Z0-9\\-\\']', ' ', regex=True)\n"
      ],
      "metadata": {
        "id": "qEBBqzqHvK3x"
      },
      "execution_count": null,
      "outputs": []
    },
    {
      "cell_type": "code",
      "source": [
        "dados['descricao_local'] = dados['descricao_local'].str.replace('(?<!\\w)-(?!\\w)', '', regex=True)"
      ],
      "metadata": {
        "id": "EJkJIublvKwB"
      },
      "execution_count": null,
      "outputs": []
    },
    {
      "cell_type": "code",
      "source": [
        "dados['descricao_local'] = dados['descricao_local'].str.split()\n",
        "dados.head()"
      ],
      "metadata": {
        "collapsed": true,
        "id": "js64VwdrvKrZ"
      },
      "execution_count": null,
      "outputs": []
    },
    {
      "cell_type": "code",
      "source": [
        "dados['comodidades']"
      ],
      "metadata": {
        "id": "4y7lCsx1isKT"
      },
      "execution_count": null,
      "outputs": []
    },
    {
      "cell_type": "code",
      "source": [
        "dados['comodidades'] = dados['comodidades'].str.replace('\\{|}|\\\"','',regex=True)"
      ],
      "metadata": {
        "id": "qp4wRSpFvKmG"
      },
      "execution_count": null,
      "outputs": []
    },
    {
      "cell_type": "code",
      "source": [
        "dados['comodidades'] = dados['comodidades'].str.split(',')\n",
        "dados.head()"
      ],
      "metadata": {
        "collapsed": true,
        "id": "9L6og6a0fAiB"
      },
      "execution_count": null,
      "outputs": []
    },
    {
      "cell_type": "code",
      "source": [
        "dados['descricao_vizinhanca'] = dados['descricao_vizinhanca'].str.lower()"
      ],
      "metadata": {
        "id": "WPRC0HTYfAXZ"
      },
      "execution_count": null,
      "outputs": []
    },
    {
      "cell_type": "code",
      "source": [
        "dados['descricao_vizinhanca'].str.split()\n"
      ],
      "metadata": {
        "id": "5zTVCWlPfAJ1"
      },
      "execution_count": null,
      "outputs": []
    },
    {
      "cell_type": "code",
      "source": [
        "dados['descricao_vizinhanca'] = dados['descricao_vizinhanca'].str.split()"
      ],
      "metadata": {
        "id": "-86aTWcPe_9n"
      },
      "execution_count": null,
      "outputs": []
    },
    {
      "cell_type": "code",
      "source": [
        "dt_data = pd.read_json('/content/dados-moveis.json')\n",
        "dt_data.head()"
      ],
      "metadata": {
        "id": "EDGdelepe_y4"
      },
      "execution_count": null,
      "outputs": []
    },
    {
      "cell_type": "code",
      "source": [
        "dt_data.info()"
      ],
      "metadata": {
        "id": "Tkx82f8_vKgf"
      },
      "execution_count": null,
      "outputs": []
    },
    {
      "cell_type": "code",
      "source": [
        "dt_data['data'] = pd.to_datetime(dt_data['data'])"
      ],
      "metadata": {
        "id": "tZx8ly7qD_z0"
      },
      "execution_count": null,
      "outputs": []
    },
    {
      "cell_type": "code",
      "source": [
        "dt_data.info()"
      ],
      "metadata": {
        "id": "kSACbjxgD_jF"
      },
      "execution_count": null,
      "outputs": []
    },
    {
      "cell_type": "code",
      "source": [
        "dt_data.head()"
      ],
      "metadata": {
        "id": "oiDb33PrD_bv"
      },
      "execution_count": null,
      "outputs": []
    },
    {
      "cell_type": "code",
      "source": [
        "dt_data['data'].dt.strftime('%Y-/%m')\n"
      ],
      "metadata": {
        "id": "OObj0c6QD_Nm"
      },
      "execution_count": null,
      "outputs": []
    },
    {
      "cell_type": "code",
      "source": [
        "subset = dt_data.groupby(dt_data['data'].dt.strftime('%Y-%m'))['vaga_disponivel'].sum()"
      ],
      "metadata": {
        "id": "bih89yKmLIHF"
      },
      "execution_count": null,
      "outputs": []
    },
    {
      "cell_type": "code",
      "source": [
        "subset"
      ],
      "metadata": {
        "id": "vhVFEUJPLIBJ"
      },
      "execution_count": null,
      "outputs": []
    }
  ]
}