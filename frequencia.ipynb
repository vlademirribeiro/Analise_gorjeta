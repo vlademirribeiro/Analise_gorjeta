{
  "nbformat": 4,
  "nbformat_minor": 0,
  "metadata": {
    "colab": {
      "private_outputs": true,
      "provenance": [],
      "authorship_tag": "ABX9TyOuT3TvJRs8JooisO0DXdpy",
      "include_colab_link": true
    },
    "kernelspec": {
      "name": "python3",
      "display_name": "Python 3"
    },
    "language_info": {
      "name": "python"
    }
  },
  "cells": [
    {
      "cell_type": "markdown",
      "metadata": {
        "id": "view-in-github",
        "colab_type": "text"
      },
      "source": [
        "<a href=\"https://colab.research.google.com/github/vlademirribeiro/Analise_gorjeta/blob/main/frequencia.ipynb\" target=\"_parent\"><img src=\"https://colab.research.google.com/assets/colab-badge.svg\" alt=\"Open In Colab\"/></a>"
      ]
    },
    {
      "cell_type": "code",
      "execution_count": null,
      "metadata": {
        "id": "M6UvfUEQlHlU"
      },
      "outputs": [],
      "source": [
        "import pandas as pd\n",
        "\n",
        "# Dados das preferências de transporte\n",
        "transporte = [\n",
        "    \"Carro\", \"Ônibus\", \"Bicicleta\", \"Carro\", \"Metrô\", \"Ônibus\",\n",
        "    \"Bicicleta\", \"Carro\", \"Metrô\", \"Bicicleta\", \"Carro\", \"Ônibus\",\n",
        "    \"Bicicleta\", \"Carro\", \"Metrô\", \"Carro\", \"Ônibus\", \"Bicicleta\",\n",
        "    \"Carro\", \"Metrô\", \"Ônibus\", \"Bicicleta\", \"Metrô\", \"Carro\",\n",
        "    \"Bicicleta\", \"Carro\", \"Metrô\", \"Ônibus\", \"Carro\", \"Bicicleta\",\n",
        "    \"Metrô\", \"Ônibus\", \"Carro\", \"Bicicleta\", \"Ônibus\", \"Metrô\",\n",
        "    \"Carro\", \"Ônibus\", \"Metrô\", \"Bicicleta\", \"Carro\", \"Metrô\",\n",
        "    \"Bicicleta\", \"Ônibus\", \"Carro\", \"Metrô\", \"Ônibus\", \"Bicicleta\"\n",
        "]\n",
        "\n",
        "# Transformando em um DataFrame\n",
        "dados = pd.DataFrame(transporte, columns=['Meio_Transporte'])\n",
        "\n",
        "# Calculando a distribuição de frequência e ordenando por frequência absoluta\n",
        "tabela_freq = (\n",
        "    dados.groupby('Meio_Transporte')\n",
        "    .size()\n",
        "    .reset_index(name='Fi')  # Frequência absoluta\n",
        ")\n",
        "\n",
        "# Calculando a frequência relativa\n",
        "tabela_freq['Fri'] = round(tabela_freq['Fi'] / tabela_freq['Fi'].sum(),2)\n",
        "\n",
        "# Calculando a frequência acumulada\n",
        "tabela_freq['F'] = tabela_freq['Fi'].cumsum()\n",
        "\n",
        "# Calculando a frequência relativa acumulada\n",
        "tabela_freq['Fri_acum'] = tabela_freq['Fri'].cumsum()\n",
        "\n",
        "# Ordenando pela frequência absoluta\n",
        "tabela_freq = tabela_freq.sort_values(by='Fi', ascending=False)\n",
        "\n",
        "tabela_freq"
      ]
    }
  ]
}